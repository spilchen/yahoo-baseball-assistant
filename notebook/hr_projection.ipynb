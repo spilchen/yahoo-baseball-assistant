{
 "cells": [
  {
   "cell_type": "code",
   "execution_count": 3,
   "metadata": {},
   "outputs": [],
   "source": [
    "import pandas as pd\n",
    "import numpy as np\n",
    "from sklearn.model_selection import train_test_split\n",
    "from sklearn.linear_model import LinearRegression\n",
    "from sklearn import linear_model\n",
    "from sklearn.metrics import mean_squared_error\n",
    "from sklearn.preprocessing import Normalizer\n",
    "from sklearn.pipeline import make_pipeline\n",
    "from sklearn.preprocessing import PolynomialFeatures\n",
    "from yahoo_baseball_assistant import hitting, baseball_date\n",
    "import pickle\n",
    "import os"
   ]
  },
  {
   "cell_type": "code",
   "execution_count": 27,
   "metadata": {},
   "outputs": [],
   "source": [
    "dt_gen = baseball_date.Generator(num_pairs=22, range_day_len=90)\n",
    "dt_ranges = dt_gen.produce()"
   ]
  },
  {
   "cell_type": "code",
   "execution_count": 29,
   "metadata": {},
   "outputs": [],
   "source": [
    "df = None\n",
    "for dt1, dt2 in zip(dt_ranges, dt_ranges[1:]):\n",
    "  dt_range = [dt1, dt2]\n",
    "  if df is None:\n",
    "    df = hitting.build_dataset(dt_range, 'HR', min_PA=200)\n",
    "  else:\n",
    "    df = pd.concat([df, hitting.build_dataset(dt_range, 'HR', min_PA=200)])"
   ]
  },
  {
   "cell_type": "code",
   "execution_count": 39,
   "metadata": {},
   "outputs": [
    {
     "name": "stdout",
     "output_type": "stream",
     "text": [
      "<class 'pandas.core.frame.DataFrame'>\n",
      "Int64Index: 2325 entries, 11 to 17\n",
      "Data columns (total 20 columns):\n",
      "Age_P0    2325 non-null int64\n",
      "R_P0      2325 non-null float64\n",
      "H_P0      2325 non-null float64\n",
      "2B_P0     2325 non-null float64\n",
      "3B_P0     2325 non-null float64\n",
      "HR_P0     2325 non-null float64\n",
      "RBI_P0    2325 non-null float64\n",
      "BB_P0     2325 non-null float64\n",
      "IBB_P0    2325 non-null float64\n",
      "SO_P0     2325 non-null float64\n",
      "HBP_P0    2325 non-null float64\n",
      "SH_P0     2325 non-null float64\n",
      "SF_P0     2325 non-null float64\n",
      "GDP_P0    2325 non-null float64\n",
      "SB_P0     2325 non-null float64\n",
      "CS_P0     2325 non-null float64\n",
      "BA_P0     2325 non-null float64\n",
      "OBP_P0    2325 non-null float64\n",
      "SLG_P0    2325 non-null float64\n",
      "OPS_P0    2325 non-null float64\n",
      "dtypes: float64(19), int64(1)\n",
      "memory usage: 381.4 KB\n"
     ]
    }
   ],
   "source": [
    "train, test = train_test_split(df, test_size=0.3, random_state=42)\n",
    "train_data = train.iloc[:,1:-1]\n",
    "train_label = train.iloc[:,-1]\n",
    "test_data = test.iloc[:,1:-1]\n",
    "test_label = test.iloc[:,-1]\n",
    "train_data.info()"
   ]
  },
  {
   "cell_type": "code",
   "execution_count": 40,
   "metadata": {},
   "outputs": [
    {
     "data": {
      "text/plain": [
       "count    2325.000000\n",
       "mean        0.030773\n",
       "std         0.017111\n",
       "min         0.000000\n",
       "25%         0.017910\n",
       "50%         0.029412\n",
       "75%         0.042135\n",
       "max         0.107239\n",
       "Name: HR, dtype: float64"
      ]
     },
     "execution_count": 40,
     "metadata": {},
     "output_type": "execute_result"
    }
   ],
   "source": [
    "train_label.describe()"
   ]
  },
  {
   "cell_type": "code",
   "execution_count": 41,
   "metadata": {},
   "outputs": [
    {
     "data": {
      "text/plain": [
       "0.4506009968073818"
      ]
     },
     "execution_count": 41,
     "metadata": {},
     "output_type": "execute_result"
    }
   ],
   "source": [
    "# LinearRegressionModel\n",
    "model = LinearRegression(normalize=False)\n",
    "model.fit(train_data, train_label)\n",
    "model.score(train_data, train_label)"
   ]
  },
  {
   "cell_type": "code",
   "execution_count": 42,
   "metadata": {},
   "outputs": [
    {
     "data": {
      "text/plain": [
       "0.0"
      ]
     },
     "execution_count": 42,
     "metadata": {},
     "output_type": "execute_result"
    }
   ],
   "source": [
    "# Lasso regression model\n",
    "model = linear_model.Lasso(alpha=0.1, normalize=False)\n",
    "model.fit(train_data, train_label)\n",
    "model.score(train_data, train_label)"
   ]
  },
  {
   "cell_type": "code",
   "execution_count": 43,
   "metadata": {},
   "outputs": [
    {
     "data": {
      "text/plain": [
       "0.0"
      ]
     },
     "execution_count": 43,
     "metadata": {},
     "output_type": "execute_result"
    }
   ],
   "source": [
    "# ElasticNet regression model\n",
    "model = linear_model.ElasticNet()\n",
    "model.fit(train_data, train_label)\n",
    "model.score(train_data, train_label)"
   ]
  },
  {
   "cell_type": "code",
   "execution_count": 44,
   "metadata": {},
   "outputs": [
    {
     "data": {
      "text/plain": [
       "0.4280655948106677"
      ]
     },
     "execution_count": 44,
     "metadata": {},
     "output_type": "execute_result"
    }
   ],
   "source": [
    "# Ridge regression\n",
    "model = linear_model.Ridge(alpha=.5)\n",
    "model.fit(train_data, train_label)\n",
    "model.score(train_data, train_label)"
   ]
  },
  {
   "cell_type": "code",
   "execution_count": 45,
   "metadata": {},
   "outputs": [
    {
     "data": {
      "text/plain": [
       "0.5027193996016462"
      ]
     },
     "execution_count": 45,
     "metadata": {},
     "output_type": "execute_result"
    }
   ],
   "source": [
    "model = make_pipeline(Normalizer(), PolynomialFeatures(2), LinearRegression(normalize=False))\n",
    "model.fit(train_data, train_label)\n",
    "model.score(train_data, train_label)"
   ]
  },
  {
   "cell_type": "code",
   "execution_count": 46,
   "metadata": {},
   "outputs": [
    {
     "data": {
      "text/plain": [
       "0.3783969249924911"
      ]
     },
     "execution_count": 46,
     "metadata": {},
     "output_type": "execute_result"
    }
   ],
   "source": [
    "model.score(test_data, test_label)"
   ]
  },
  {
   "cell_type": "code",
   "execution_count": 47,
   "metadata": {},
   "outputs": [],
   "source": [
    "pickle.dump(model, open(\"../data/hr.model\", \"wb\"))"
   ]
  },
  {
   "cell_type": "code",
   "execution_count": null,
   "metadata": {},
   "outputs": [],
   "source": []
  }
 ],
 "metadata": {
  "kernelspec": {
   "display_name": "Python 3",
   "language": "python",
   "name": "python3"
  },
  "language_info": {
   "codemirror_mode": {
    "name": "ipython",
    "version": 3
   },
   "file_extension": ".py",
   "mimetype": "text/x-python",
   "name": "python",
   "nbconvert_exporter": "python",
   "pygments_lexer": "ipython3",
   "version": "3.7.1"
  }
 },
 "nbformat": 4,
 "nbformat_minor": 2
}
